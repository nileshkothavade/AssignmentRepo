{
  "metadata": {
    "language_info": {
      "codemirror_mode": {
        "name": "python",
        "version": 3
      },
      "file_extension": ".py",
      "mimetype": "text/x-python",
      "name": "python",
      "nbconvert_exporter": "python",
      "pygments_lexer": "ipython3",
      "version": "3.8"
    },
    "kernelspec": {
      "name": "python",
      "display_name": "Pyolite",
      "language": "python"
    }
  },
  "nbformat_minor": 4,
  "nbformat": 4,
  "cells": [
    {
      "cell_type": "markdown",
      "source": "# My Jupyter Notebook on IBM Watson Studio",
      "metadata": {}
    },
    {
      "cell_type": "markdown",
      "source": "**Nilesh Kothavade** - Information Technology Manager",
      "metadata": {}
    },
    {
      "cell_type": "markdown",
      "source": "*I am interested in Data Science because I believe vast data pools we have today contain hidden stories and insights that are waiting to be revealed.*",
      "metadata": {}
    },
    {
      "cell_type": "markdown",
      "source": "### The code below exchanges the values of two variables",
      "metadata": {}
    },
    {
      "cell_type": "code",
      "source": "var1 = \"First value\"\nvar2 = \"Second value\"\nvarTemp = var1\nvar1 = var2\nvar2 = varTemp\nprint (\"var1 = \" + var1)\nprint (\"var2 = \" + var2)",
      "metadata": {
        "trusted": true
      },
      "execution_count": 1,
      "outputs": [
        {
          "name": "stdout",
          "text": "var1 = Second value\nvar2 = First value\n",
          "output_type": "stream"
        }
      ]
    },
    {
      "cell_type": "markdown",
      "source": "---\n|Name    |Country|Interest        |\n|--------|-------|----------------|\n|John Doe|USA    |Data engineering|\n|Charles Baker|England|Data analysis|\n|Rahul Jain|India|Data science|\n\n---\n1. Bag-1\n   * Apple\n   * Orange\n2. Bag-2\n   * Potato\n   * Carrot \n   \n---\n[Click here to open search engine](https://www.google.com)",
      "metadata": {}
    },
    {
      "cell_type": "code",
      "source": "",
      "metadata": {},
      "execution_count": null,
      "outputs": []
    }
  ]
}