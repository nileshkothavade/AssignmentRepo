{
 "cells": [
  {
   "cell_type": "markdown",
   "metadata": {},
   "source": [
    "# Data Science Tools and Ecosystem"
   ]
  },
  {
   "cell_type": "markdown",
   "metadata": {},
   "source": [
    "*In this notebook, Data Science Tools and Ecosystem are summarized.*"
   ]
  },
  {
   "cell_type": "markdown",
   "metadata": {},
   "source": [
    "---\n",
    "The common & widely used **data science languages** are:\n",
    "* Python\n",
    "* R\n",
    "* SQL\n",
    "\n",
    "Other useful languages for data science:\n",
    "* Scala\n",
    "* Java\n",
    "* C++\n",
    "* Julia\n",
    "* Javascript\n",
    "* php\n",
    "* GO\n",
    "* Visual Basic"
   ]
  },
  {
   "cell_type": "markdown",
   "metadata": {},
   "source": [
    "---\n",
    "**Data science libraries** used:\n",
    "* Scientific computing: \n",
    "  * Pandas \n",
    "  * NumPy\n",
    "* Visualization:\n",
    "  * Matplotlib\n",
    "  * Seaborn\n",
    "  * Vegas (Scala)\n",
    "  * Ggplot2 (R)\n",
    "* Machine learning & Deep learning:\n",
    "  * Scikit-learn\n",
    "  * Keras\n",
    "* Deep learning:\n",
    "  * TensorFlow\n",
    "  * PyTorch\n",
    "  * Big DL (Scala)"
   ]
  },
  {
   "cell_type": "markdown",
   "metadata": {},
   "source": [
    "---\n",
    "**Data science tools** categorized by tasks across life cycle:\n",
    "\n",
    " | Data Management | Data Integration & Transformation | Data Visualization | Model Building & Deployment | Model Monitoring & Assessment | Code Asset Management | Data Asset Management | \n",
    " | --------------- | --------------------------------- | ------------------ | --------------------------- | ----------------------------- | --------------------- | --------------------- | \n",
    " | Microsoft SQL Server, Oracle, IBM DB2, MySQL, PostgreSQL, MongoDB, Couch DB, Cassandra, Hadoop HDFS, ceph, ElasticSearch | Informatica, IBM Infosphere Datastage, Oracle, SAAS, Airflow, Kubeflow, Kafka, nifi, Spark SQL |  Tableau, Microsoft Power BI, Cognos, HUE, Kibana, Superset | Apache PredictionIO, Seldon, TensorFlow | SPSS Modeler, SAS Enterprise Miner, ModelDB, Prometheus | IBM Adverserial 360, IBM AI Explainability 360 |  GitHub, GitLab, Bitbucket, Apache Atlas, ODPI EGERIA, kylo | \n",
    "\n",
    "|Development Environment| Execution Environment| Fully Integrated Visual Tools|\n",
    "|-----------------------|----------------------|------------------------------|\n",
    "|IBM Watson Studio, Jupyter Notebook, Jupyter Lab, Zeppelin, RStudio, Spyder| Spark, Flink, Ray| Knime, Orange|"
   ]
  },
  {
   "cell_type": "markdown",
   "metadata": {
    "tags": []
   },
   "source": [
    "---\n",
    "### Below are a few examples of evaluating arithmetic expressions in Python. \n",
    "**Arithmetic expression** is a combination of numeric values & operands that perform mathematical operations on numeric values. eg: 2+7-4 = 5, 2x3x4 = 24"
   ]
  },
  {
   "cell_type": "code",
   "execution_count": 4,
   "metadata": {},
   "outputs": [
    {
     "data": {
      "text/plain": [
       "36"
      ]
     },
     "execution_count": 4,
     "metadata": {},
     "output_type": "execute_result"
    }
   ],
   "source": [
    "#This a simple arithmetic expression to mutiply then add integers\n",
    "(7+2)*(5-1)"
   ]
  },
  {
   "cell_type": "code",
   "execution_count": 5,
   "metadata": {},
   "outputs": [
    {
     "name": "stdout",
     "output_type": "stream",
     "text": [
      "200 minutes is 3.33 hours\n"
     ]
    }
   ],
   "source": [
    "#This will convert 200 minutes to hours by diving by 60\n",
    "mins = 200\n",
    "hrs = round(mins/60, 2)\n",
    "print(str(mins) + \" minutes is \" + str(hrs) + \" hours\") "
   ]
  },
  {
   "cell_type": "markdown",
   "metadata": {},
   "source": [
    "---\n",
    "### The code below exchanges the values of two variables"
   ]
  },
  {
   "cell_type": "code",
   "execution_count": 3,
   "metadata": {},
   "outputs": [
    {
     "name": "stdout",
     "output_type": "stream",
     "text": [
      "var1 = Second value\n",
      "var2 = First value\n"
     ]
    }
   ],
   "source": [
    "var1 = \"First value\"\n",
    "var2 = \"Second value\"\n",
    "varTemp = var1\n",
    "var1 = var2\n",
    "var2 = varTemp\n",
    "print(\"var1 = \" + var1)\n",
    "print(\"var2 = \" + var2)"
   ]
  },
  {
   "cell_type": "markdown",
   "metadata": {},
   "source": [
    "---\n",
    "Learning **Objectives** from this module:\n",
    "* Different activities in data science lifecycle\n",
    "* Open source tools available for each activity in data science lifecycle\n",
    "* Different types of libraries and libraries availabile in programming languages such as Python, R, or Scala\n",
    "* Overview of Jypyter Notebooks & Jupyter Lab. How to use\n",
    "* GitHub for version control and usage basics\n",
    "* About RStudio capabilities\n",
    "* What is IBM Watson Studio and how to use"
   ]
  },
  {
   "cell_type": "markdown",
   "metadata": {},
   "source": [
    "---\n",
    "## Author : \n",
    "Nilesh Kothavade"
   ]
  },
  {
   "cell_type": "markdown",
   "metadata": {},
   "source": [
    "\n",
    "\n",
    "\n",
    "\n",
    "\n",
    "---\n",
    "|Name    |Country|Interest        |\n",
    "|--------|-------|----------------|\n",
    "|John Doe|USA    |Data engineering|\n",
    "|Charles Baker|England|Data analysis|\n",
    "|Rahul Jain|India|Data science|\n",
    "\n",
    "---\n",
    "1. Bag-1\n",
    "   * Apple\n",
    "   * Orange\n",
    "2. Bag-2\n",
    "   * Potato\n",
    "   * Carrot \n",
    "   \n",
    "---\n",
    "[Click here to open search engine](https://www.google.com)"
   ]
  },
  {
   "cell_type": "code",
   "execution_count": null,
   "metadata": {},
   "outputs": [],
   "source": []
  }
 ],
 "metadata": {
  "kernelspec": {
   "display_name": "Python",
   "language": "python",
   "name": "conda-env-python-py"
  },
  "language_info": {
   "codemirror_mode": {
    "name": "ipython",
    "version": 3
   },
   "file_extension": ".py",
   "mimetype": "text/x-python",
   "name": "python",
   "nbconvert_exporter": "python",
   "pygments_lexer": "ipython3",
   "version": "3.7.12"
  }
 },
 "nbformat": 4,
 "nbformat_minor": 4
}
